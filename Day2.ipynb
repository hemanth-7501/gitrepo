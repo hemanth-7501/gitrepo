{
 "cells": [
  {
   "cell_type": "code",
   "execution_count": 1,
   "id": "8ed991e8-d5f2-4f46-9571-e0283ba9fd98",
   "metadata": {},
   "outputs": [
    {
     "name": "stdin",
     "output_type": "stream",
     "text": [
      "Enter number of rows for Matrix A:  2\n",
      "Enter number of columns for Matrix A:  3\n"
     ]
    },
    {
     "name": "stdout",
     "output_type": "stream",
     "text": [
      "Enter elements of Matrix A row-wise (space-separated):\n"
     ]
    },
    {
     "name": "stdin",
     "output_type": "stream",
     "text": [
      " 1 2 3 4 5 6\n",
      "Enter number of rows for Matrix B:  3\n",
      "Enter number of columns for Matrix B:  2\n"
     ]
    },
    {
     "name": "stdout",
     "output_type": "stream",
     "text": [
      "Enter elements of Matrix B row-wise (space-separated):\n"
     ]
    },
    {
     "name": "stdin",
     "output_type": "stream",
     "text": [
      " 3 2 6 7 8 9\n"
     ]
    },
    {
     "name": "stdout",
     "output_type": "stream",
     "text": [
      "\n",
      "Matrix A:\n",
      " [[1 2 3]\n",
      " [4 5 6]]\n",
      "\n",
      "Matrix B:\n",
      " [[3 2]\n",
      " [6 7]\n",
      " [8 9]]\n",
      "\n",
      "A x B:\n",
      " [[39 43]\n",
      " [90 97]]\n"
     ]
    }
   ],
   "source": [
    "import numpy as np\n",
    "\n",
    "def matrix_multiplication(A, B):\n",
    "    \"\"\"\n",
    "    Perform matrix multiplication between two NumPy arrays.\n",
    "    \"\"\"\n",
    "    if A.shape[1] != B.shape[0]:\n",
    "        raise ValueError(\"Number of columns of A must match number of rows of B\")\n",
    "    return np.dot(A, B) \n",
    "\n",
    "# Matrix A\n",
    "rows_A = int(input(\"Enter number of rows for Matrix A: \"))\n",
    "cols_A = int(input(\"Enter number of columns for Matrix A: \"))\n",
    "\n",
    "print(\"Enter elements of Matrix A row-wise (space-separated):\")\n",
    "A_elements = list(map(int, input().split()))\n",
    "A = np.array(A_elements).reshape(rows_A, cols_A)\n",
    "\n",
    "# Matrix B\n",
    "rows_B = int(input(\"Enter number of rows for Matrix B: \"))\n",
    "cols_B = int(input(\"Enter number of columns for Matrix B: \"))\n",
    "\n",
    "print(\"Enter elements of Matrix B row-wise (space-separated):\")\n",
    "B_elements = list(map(int, input().split()))\n",
    "B = np.array(B_elements).reshape(rows_B, cols_B)\n",
    "\n",
    "#multiplication\n",
    "try:\n",
    "    result = matrix_multiplication(A, B)\n",
    "    print(\"\\nMatrix A:\\n\", A)\n",
    "    print(\"\\nMatrix B:\\n\", B)\n",
    "    print(\"\\nA x B:\\n\", result)\n",
    "except ValueError as e:\n",
    "    print(\"\\nError:\", e)\n"
   ]
  },
  {
   "cell_type": "code",
   "execution_count": 8,
   "id": "01acfee4-15c2-4af3-833e-7fc6106a287b",
   "metadata": {},
   "outputs": [
    {
     "name": "stdout",
     "output_type": "stream",
     "text": [
      "Original Data: [ 10.  50.  60.  80. 100.]\n"
     ]
    }
   ],
   "source": [
    "import numpy as np\n",
    "\n",
    "# Example dataset \n",
    "data = np.array([10, 50, 60, 80, 100], dtype=float)\n",
    "print(\"Original Data:\", data)\n"
   ]
  },
  {
   "cell_type": "code",
   "execution_count": 9,
   "id": "83447a94-c7b0-40b9-8363-e82ac115f4c9",
   "metadata": {},
   "outputs": [
    {
     "name": "stdout",
     "output_type": "stream",
     "text": [
      "\n",
      "Min-Max Scaled Data: [0.         0.44444444 0.55555556 0.77777778 1.        ]\n"
     ]
    }
   ],
   "source": [
    "# Min-Max Scaling\n",
    "min_val = np.min(data)\n",
    "max_val = np.max(data)\n",
    "data_minmax_scaled = (data - min_val) / (max_val - min_val)\n",
    "\n",
    "print(\"\\nMin-Max Scaled Data:\", data_minmax_scaled)"
   ]
  },
  {
   "cell_type": "code",
   "execution_count": 10,
   "id": "b8089b5d-83d4-4276-95e5-a56ffcd3eea8",
   "metadata": {},
   "outputs": [
    {
     "name": "stdout",
     "output_type": "stream",
     "text": [
      "\n",
      "Standardized Data: [-1.64845118 -0.32969024  0.          0.65938047  1.31876095]\n"
     ]
    }
   ],
   "source": [
    "# Standardization \n",
    "mean_val = np.mean(data)\n",
    "std_val = np.std(data)\n",
    "data_standardized = (data - mean_val) / std_val\n",
    "\n",
    "print(\"\\nStandardized Data:\", data_standardized)\n"
   ]
  },
  {
   "cell_type": "code",
   "execution_count": null,
   "id": "79cd5eda-77c7-4cc2-8a00-63abfbe292fa",
   "metadata": {},
   "outputs": [],
   "source": []
  }
 ],
 "metadata": {
  "kernelspec": {
   "display_name": "Python 3 (ipykernel)",
   "language": "python",
   "name": "python3"
  },
  "language_info": {
   "codemirror_mode": {
    "name": "ipython",
    "version": 3
   },
   "file_extension": ".py",
   "mimetype": "text/x-python",
   "name": "python",
   "nbconvert_exporter": "python",
   "pygments_lexer": "ipython3",
   "version": "3.12.4"
  }
 },
 "nbformat": 4,
 "nbformat_minor": 5
}
