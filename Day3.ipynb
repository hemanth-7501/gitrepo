{
 "cells": [
  {
   "cell_type": "code",
   "execution_count": 2,
   "id": "3c7be48b-1406-4de4-9737-b2d646f5f8ff",
   "metadata": {},
   "outputs": [
    {
     "name": "stdout",
     "output_type": "stream",
     "text": [
      "P(Heads) = 0.6\n",
      "P(Tails) = 0.4\n",
      "P(Disease | Positive Test) = 0.15384615384615385\n"
     ]
    }
   ],
   "source": [
    "#Given a dataset of coin flips (e.g., 100 flips with 60 heads, 40 tails)\n",
    "total_flips = 100\n",
    "heads = 60\n",
    "tails = 40\n",
    "\n",
    "P_heads = heads / total_flips\n",
    "P_tails = tails / total_flips\n",
    "\n",
    "print(\"P(Heads) =\", P_heads)\n",
    "print(\"P(Tails) =\", P_tails)\n",
    "\n",
    "P_D = 0.01\n",
    "P_notD = 0.99\n",
    "P_Pos_given_D = 0.9\n",
    "P_Pos_given_notD = 0.05\n",
    "\n",
    "# Apply Bayes' Theorem  to a simple scenario (e.g., probability of a patient having a disease given a positive test result).\n",
    "P_D_given_Pos = (P_Pos_given_D * P_D) / (\n",
    "    (P_Pos_given_D * P_D) + (P_Pos_given_notD * P_notD)\n",
    ")\n",
    "\n",
    "print(\"P(Disease | Positive Test) =\", P_D_given_Pos)\n"
   ]
  },
  {
   "cell_type": "code",
   "execution_count": 3,
   "id": "d4880629-59e5-49b3-88f2-592811148439",
   "metadata": {},
   "outputs": [
    {
     "name": "stdin",
     "output_type": "stream",
     "text": [
      "Enter the value of x:  3\n"
     ]
    },
    {
     "name": "stdout",
     "output_type": "stream",
     "text": [
      "Function: f(x) = 3*x**2 + 2*x - 5\n",
      "Derivative: f'(x) = 6*x + 2\n",
      "Derivative at x = 3.0: 20.0000000000000\n"
     ]
    }
   ],
   "source": [
    "#To compute the derivative of a simple polynomial function (e.g., f(x)=3x2+2x−5) at a given point.\n",
    "from sympy import symbols, diff\n",
    "\n",
    "def derivative_of_function(point):\n",
    "    x = symbols('x')\n",
    "    f_x = 3*x**2 + 2*x - 5\n",
    "    \n",
    "    der_x = diff(f_x, x)\n",
    "    return f_x, der_x, der_x.subs(x, point)\n",
    "\n",
    "x_point = float(input(\"Enter the value of x: \"))\n",
    "\n",
    "f_x, der_x, der_at_point = derivative_of_function(x_point)\n",
    "\n",
    "print(f\"Function: f(x) = {f_x}\")\n",
    "print(f\"Derivative: f'(x) = {der_x}\")\n",
    "print(f\"Derivative at x = {x_point}: {der_at_point}\")\n"
   ]
  },
  {
   "cell_type": "code",
   "execution_count": 4,
   "id": "3c773167-7d51-43cf-80ea-50041499c58d",
   "metadata": {},
   "outputs": [
    {
     "name": "stdout",
     "output_type": "stream",
     "text": [
      "Initial x: 2.0\n",
      "Initial f(x): 11.0\n",
      "Updated x: 0.5999999999999999\n",
      "Updated f(x): -2.7200000000000006\n"
     ]
    }
   ],
   "source": [
    "# Example1 for gradient descent\n",
    "def f(x):\n",
    "    return 3*x**2 + 2*x - 5\n",
    "\n",
    "def f_derivative(x):\n",
    "    return 6*x + 2\n",
    "\n",
    "x = 2.0        \n",
    "learning_rate = 0.1\n",
    "\n",
    "print(\"Initial x:\", x)\n",
    "print(\"Initial f(x):\", f(x))\n",
    "x_new = x - learning_rate * f_derivative(x)\n",
    "\n",
    "print(\"Updated x:\", x_new)\n",
    "print(\"Updated f(x):\", f(x_new))\n"
   ]
  },
  {
   "cell_type": "code",
   "execution_count": 5,
   "id": "3eaf07e0-f0ce-4de6-b647-b58bad3ef4e2",
   "metadata": {},
   "outputs": [
    {
     "name": "stdout",
     "output_type": "stream",
     "text": [
      "Converged after 13 iterations.\n",
      "Minimum x = -0.3333, f(x) = -5.3333\n"
     ]
    }
   ],
   "source": [
    "#Example2 for gradient descent\n",
    "x = 2.0          \n",
    "learning_rate = 0.1\n",
    "tolerance = 0.0001 \n",
    "\n",
    "iteration = 0\n",
    "while abs(f_derivative(x)) > tolerance:\n",
    "    x = x - learning_rate * f_derivative(x)\n",
    "    iteration += 1\n",
    "\n",
    "print(f\"Converged after {iteration} iterations.\")\n",
    "print(f\"Minimum x = {x:.4f}, f(x) = {f(x):.4f}\")\n"
   ]
  },
  {
   "cell_type": "code",
   "execution_count": null,
   "id": "206305e2-903e-4ff8-babf-1c78c32835b4",
   "metadata": {},
   "outputs": [],
   "source": []
  }
 ],
 "metadata": {
  "kernelspec": {
   "display_name": "Python 3 (ipykernel)",
   "language": "python",
   "name": "python3"
  },
  "language_info": {
   "codemirror_mode": {
    "name": "ipython",
    "version": 3
   },
   "file_extension": ".py",
   "mimetype": "text/x-python",
   "name": "python",
   "nbconvert_exporter": "python",
   "pygments_lexer": "ipython3",
   "version": "3.12.4"
  }
 },
 "nbformat": 4,
 "nbformat_minor": 5
}
